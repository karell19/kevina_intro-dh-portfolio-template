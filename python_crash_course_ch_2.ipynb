{
 "cells": [
  {
   "cell_type": "markdown",
   "metadata": {},
   "source": [
    "# _Python Crash Course_ Chapter 2"
   ]
  },
  {
   "cell_type": "markdown",
   "metadata": {},
   "source": [
    "## 2-1. Simple Message\n",
    "Assign a message to a variable, and then print that message."
   ]
  },
  {
   "cell_type": "code",
   "execution_count": 1,
   "metadata": {},
   "outputs": [
    {
     "name": "stdout",
     "output_type": "stream",
     "text": [
      "This is a message.\n"
     ]
    }
   ],
   "source": [
    "message = \"This is a message.\"\n",
    "print(message)"
   ]
  },
  {
   "cell_type": "markdown",
   "metadata": {},
   "source": [
    "## 2-2. Simple Messages\n",
    "Assign a message to a variable, and print that message. Then change the value of the variable to a new message, and print the new message."
   ]
  },
  {
   "cell_type": "code",
   "execution_count": 3,
   "metadata": {},
   "outputs": [
    {
     "name": "stdout",
     "output_type": "stream",
     "text": [
      "Python is easy\n",
      "Never mind, this might be difficult later.\n"
     ]
    }
   ],
   "source": [
    "message = \"Python is easy\"\n",
    "print(message)\n",
    "message = \"Never mind, this might be difficult later.\"\n",
    "print(message)"
   ]
  },
  {
   "cell_type": "markdown",
   "metadata": {},
   "source": [
    "## 2-3. Personal Message\n",
    "Use a variable to represent a person’s name, and print a message to that person. Your message should be simple, such as, “Hello Eric, would you like to learn some Python today?”"
   ]
  },
  {
   "cell_type": "code",
   "execution_count": 4,
   "metadata": {},
   "outputs": [
    {
     "name": "stdout",
     "output_type": "stream",
     "text": [
      "Hello Eric, would you like to learn some Python today?\n"
     ]
    }
   ],
   "source": [
    "name = \"Eric\"\n",
    "message = f\"Hello {name}, would you like to learn some Python today?\"\n",
    "print(message)"
   ]
  },
  {
   "cell_type": "markdown",
   "metadata": {},
   "source": [
    "## 2-4. Name Cases\n",
    "Use a variable to represent a person’s name, and then print that person’s name in lowercase, uppercase, and title case."
   ]
  },
  {
   "cell_type": "code",
   "execution_count": 5,
   "metadata": {},
   "outputs": [
    {
     "name": "stdout",
     "output_type": "stream",
     "text": [
      "david hume\n",
      "DAVID HUME\n",
      "David Hume\n"
     ]
    }
   ],
   "source": [
    "name = \"David Hume\"\n",
    "print(name.lower())\n",
    "print(name.upper())\n",
    "print(name.title())"
   ]
  },
  {
   "cell_type": "markdown",
   "metadata": {},
   "source": [
    "## 2-5. Famous Quote\n",
    "Find a quote from a famous person you admire. Print the quote and the name of its author."
   ]
  },
  {
   "cell_type": "code",
   "execution_count": 6,
   "metadata": {},
   "outputs": [
    {
     "name": "stdout",
     "output_type": "stream",
     "text": [
      "Bertrand Russell once said, \"The whole problem with the world is that fools and fanatics are always so certain of themselves, and wiser people so full of doubts.\"\n"
     ]
    }
   ],
   "source": [
    "quote = 'Bertrand Russell once said, \"The whole problem with the world is that fools and fanatics are always so certain of themselves, and wiser people so full of doubts.\"'\n",
    "print(quote)"
   ]
  },
  {
   "cell_type": "markdown",
   "metadata": {},
   "source": [
    "Alternative solution using the escape character:"
   ]
  },
  {
   "cell_type": "code",
   "execution_count": 7,
   "metadata": {},
   "outputs": [
    {
     "name": "stdout",
     "output_type": "stream",
     "text": [
      "Bertrand Russell once said, \"The whole problem with the world is that fools and fanatics are always so certain of themselves, and wiser people so full of doubts.\"\n"
     ]
    }
   ],
   "source": [
    "quote = \"Bertrand Russell once said, \\\"The whole problem with the world is that fools and fanatics are always so certain of themselves, and wiser people so full of doubts.\\\"\"\n",
    "print(quote)"
   ]
  },
  {
   "cell_type": "markdown",
   "metadata": {},
   "source": [
    "## 2-6. Famous Quote 2\n",
    "Repeat Exercise 2-5, but this time, represent the famous person’s name using a variable called `famous_person`. Then compose your message and represent it with a new variable called `message`. Print your message."
   ]
  },
  {
   "cell_type": "code",
   "execution_count": 8,
   "metadata": {},
   "outputs": [
    {
     "name": "stdout",
     "output_type": "stream",
     "text": [
      "Bertrand Russell once said, \"The whole problem with the world is that fools and fanatics are always so certain of themselves, and wiser people so full of doubts\"\n"
     ]
    }
   ],
   "source": [
    "famous_person = 'Bertrand Russell'\n",
    "message = f'{famous_person} once said, \"The whole problem with the world is that fools and fanatics are always so certain of themselves, and wiser people so full of doubts.\"'\n",
    "print(message)"
   ]
  },
  {
   "cell_type": "markdown",
   "metadata": {},
   "source": [
    "Taking 2-6 once step further:"
   ]
  },
  {
   "cell_type": "code",
   "execution_count": 10,
   "metadata": {},
   "outputs": [
    {
     "name": "stdout",
     "output_type": "stream",
     "text": [
      "Bertrand Russell once said, \"The whole problem with the world is that fools and fanatics are always so certain of themselves, and wiser people so full of doubts.\"\n"
     ]
    }
   ],
   "source": [
    "famous_person = \"Bertrand Russell\"\n",
    "quote = \"The whole problem with the world is that fools and fanatics are always so certain of themselves, and wiser people so full of doubts.\"\n",
    "message = f'{famous_person} once said, \"{quote}\"'\n",
    "print(message)"
   ]
  },
  {
   "cell_type": "markdown",
   "metadata": {},
   "source": [
    "## 2-7. Stripping Names\n",
    "Use a variable to represent a person’s name, and include some whitespace characters at the beginning and end of the name. Make sure you use each character combination, \"\\t\" and \"\\n\", at least once."
   ]
  },
  {
   "cell_type": "code",
   "execution_count": 14,
   "metadata": {},
   "outputs": [
    {
     "name": "stdout",
     "output_type": "stream",
     "text": [
      "George Eliot\n",
      "John Stuart Mill\n"
     ]
    }
   ],
   "source": [
    "tabbed_name = \"\\tGeorge Eliot\"\n",
    "print(tabbed_name.lstrip())\n",
    "new_line_name = \"\\nJohn Stuart Mill\"\n",
    "print(new_line_name.lstrip())"
   ]
  },
  {
   "cell_type": "markdown",
   "metadata": {},
   "source": [
    "## 2-10. Adding Comments\n",
    "Choose two of the programs you’ve written, and add at least one comment to each."
   ]
  },
  {
   "cell_type": "code",
   "execution_count": 15,
   "metadata": {},
   "outputs": [
    {
     "name": "stdout",
     "output_type": "stream",
     "text": [
      "david hume\n",
      "DAVID HUME\n",
      "David Hume\n"
     ]
    }
   ],
   "source": [
    "name = \"David Hume\"\n",
    "print(name.lower())  # prints in lower case\n",
    "print(name.upper())  # prints in upper case\n",
    "print(name.title())  # prints in title case"
   ]
  },
  {
   "cell_type": "code",
   "execution_count": 16,
   "metadata": {},
   "outputs": [
    {
     "name": "stdout",
     "output_type": "stream",
     "text": [
      "George Eliot\n",
      "John Stuart Mill\n"
     ]
    }
   ],
   "source": [
    "tabbed_name = \"\\tGeorge Eliot\"\n",
    "print(tabbed_name.lstrip())  # remove \\t\n",
    "new_line_name = \"\\nJohn Stuart Mill\"\n",
    "print(new_line_name.lstrip())  # remoce \\n"
   ]
  },
  {
   "cell_type": "code",
   "execution_count": null,
   "metadata": {},
   "outputs": [],
   "source": []
  }
 ],
 "metadata": {
  "kernelspec": {
   "display_name": "Python 3 (ipykernel)",
   "language": "python",
   "name": "python3"
  },
  "language_info": {
   "codemirror_mode": {
    "name": "ipython",
    "version": 3
   },
   "file_extension": ".py",
   "mimetype": "text/x-python",
   "name": "python",
   "nbconvert_exporter": "python",
   "pygments_lexer": "ipython3",
   "version": "3.8.5"
  }
 },
 "nbformat": 4,
 "nbformat_minor": 4
}
